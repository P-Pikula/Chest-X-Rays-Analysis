{
 "cells": [
  {
   "cell_type": "markdown",
   "id": "e1a3edcd-24b7-4de7-acff-92bd0ba2248d",
   "metadata": {
    "tags": []
   },
   "source": [
    "## Chest-X-Rays-Analysis"
   ]
  },
  {
   "cell_type": "markdown",
   "id": "c68d578e-01b3-40fb-b7c6-66a83a344e25",
   "metadata": {},
   "source": [
    "Identifying Pneumonia in Chest X-Rays by Image-Based Deep Learning"
   ]
  },
  {
   "cell_type": "markdown",
   "id": "55790c64-b5b2-4e0e-bab7-3c4de9af9972",
   "metadata": {},
   "source": [
    "### Import packages"
   ]
  },
  {
   "cell_type": "code",
   "execution_count": 4,
   "id": "8fa545a5-59a2-4ed2-a1bb-2161c37ec153",
   "metadata": {},
   "outputs": [],
   "source": [
    "# Import data visualisation and manipulation libraries\n",
    "import numpy as np\n",
    "import pandas as pd\n",
    "import matplotlib.pyplot as plt\n",
    "import matplotlib as mpl\n",
    "from matplotlib import style\n",
    "import seaborn as sns\n",
    "\n",
    "# Import standard libraries\n",
    "import os\n",
    "import random\n",
    "\n",
    "# File and directory access\n",
    "from pathlib import Path \n",
    "import glob\n",
    "\n",
    "# Configuration of plotting settings \n",
    "%matplotlib inline  \n",
    "style.use('fivethirtyeight')\n",
    "sns.set(style='whitegrid',color_codes=True)\n",
    "mpl.rc('axes', labelsize=14)\n",
    "mpl.rc('xtick', labelsize=12)\n",
    "mpl.rc('ytick', labelsize=12)\n",
    "\n",
    "# Ignore the warnings\n",
    "import warnings\n",
    "warnings.filterwarnings('always')\n",
    "warnings.filterwarnings('ignore')"
   ]
  },
  {
   "cell_type": "markdown",
   "id": "a56f2317-33aa-4e6e-83e8-df0097847a08",
   "metadata": {
    "jp-MarkdownHeadingCollapsed": true,
    "tags": []
   },
   "source": [
    "### Import dataset"
   ]
  },
  {
   "cell_type": "markdown",
   "id": "605de966-1432-4fd9-8d4b-cef485ee3de0",
   "metadata": {},
   "source": [
    "Dataset source: https://www.kaggle.com/datasets/tolgadincer/labeled-chest-xray-images"
   ]
  },
  {
   "cell_type": "code",
   "execution_count": 2,
   "id": "ca200087-2478-4492-94ed-6edc5c0442d8",
   "metadata": {},
   "outputs": [],
   "source": [
    "# Path to the data directory\n",
    "main_path = Path('../Chest-X-Rays-Analysis/data')\n",
    "\n",
    "# Path to train directory\n",
    "train_path = main_path / 'train'\n",
    "\n",
    "# Path to test directory\n",
    "test_path = main_path / 'test'\n",
    "\n",
    "# Get the paths to the images in normal and pneumonia sub-directories\n",
    "train_normal = list((train_path / 'NORMAL').glob('*.jpeg'))\n",
    "train_pneumonia = list((train_path / \"PNEUMONIA\").glob('*.jpeg'))\n",
    "test_normal = list((test_path / 'NORMAL').glob('*.jpeg'))\n",
    "test_pneumonia = list((test_path / \"PNEUMONIA\").glob('*.jpeg'))"
   ]
  },
  {
   "cell_type": "code",
   "execution_count": 3,
   "id": "0d11fe19-433b-45ed-98d3-9674d9a83f0a",
   "metadata": {
    "tags": []
   },
   "outputs": [],
   "source": [
    "train_list = [x.name for x in train_normal]\n",
    "train_list.extend([x.name for x in train_pneumonia])\n",
    "\n",
    "df_train = pd.DataFrame(np.concatenate([['Normal']*len(train_normal) , \n",
    "                                        ['Pneumonia']*len(train_pneumonia)]), columns = ['class'])\n",
    "df_train['image'] = [x for x in train_list]\n",
    "\n",
    "test_list = [x.name for x in test_normal]\n",
    "test_list.extend([x.name for x in test_pneumonia])\n",
    "\n",
    "df_test = pd.DataFrame(np.concatenate([['Normal']*len(test_normal) , ['Pneumonia']*len(test_pneumonia)]), columns = ['class'])\n",
    "df_test['image'] = [x for x in test_list]"
   ]
  },
  {
   "cell_type": "code",
   "execution_count": 372,
   "id": "d98334a8-6afe-47d0-bd56-d8ed99537a9a",
   "metadata": {},
   "outputs": [
    {
     "data": {
      "text/html": [
       "<div>\n",
       "<style scoped>\n",
       "    .dataframe tbody tr th:only-of-type {\n",
       "        vertical-align: middle;\n",
       "    }\n",
       "\n",
       "    .dataframe tbody tr th {\n",
       "        vertical-align: top;\n",
       "    }\n",
       "\n",
       "    .dataframe thead th {\n",
       "        text-align: right;\n",
       "    }\n",
       "</style>\n",
       "<table border=\"1\" class=\"dataframe\">\n",
       "  <thead>\n",
       "    <tr style=\"text-align: right;\">\n",
       "      <th></th>\n",
       "      <th>class</th>\n",
       "      <th>image</th>\n",
       "    </tr>\n",
       "  </thead>\n",
       "  <tbody>\n",
       "    <tr>\n",
       "      <th>0</th>\n",
       "      <td>Normal</td>\n",
       "      <td>NORMAL-1003233-0001.jpeg</td>\n",
       "    </tr>\n",
       "    <tr>\n",
       "      <th>1</th>\n",
       "      <td>Normal</td>\n",
       "      <td>NORMAL-1012843-0001.jpeg</td>\n",
       "    </tr>\n",
       "    <tr>\n",
       "      <th>2</th>\n",
       "      <td>Normal</td>\n",
       "      <td>NORMAL-1014768-0001.jpeg</td>\n",
       "    </tr>\n",
       "    <tr>\n",
       "      <th>3</th>\n",
       "      <td>Normal</td>\n",
       "      <td>NORMAL-1023731-0001.jpeg</td>\n",
       "    </tr>\n",
       "    <tr>\n",
       "      <th>4</th>\n",
       "      <td>Normal</td>\n",
       "      <td>NORMAL-1029510-0001.jpeg</td>\n",
       "    </tr>\n",
       "    <tr>\n",
       "      <th>...</th>\n",
       "      <td>...</td>\n",
       "      <td>...</td>\n",
       "    </tr>\n",
       "    <tr>\n",
       "      <th>5227</th>\n",
       "      <td>Pneumonia</td>\n",
       "      <td>VIRUS-9934736-0003.jpeg</td>\n",
       "    </tr>\n",
       "    <tr>\n",
       "      <th>5228</th>\n",
       "      <td>Pneumonia</td>\n",
       "      <td>VIRUS-9947411-0002.jpeg</td>\n",
       "    </tr>\n",
       "    <tr>\n",
       "      <th>5229</th>\n",
       "      <td>Pneumonia</td>\n",
       "      <td>VIRUS-9962961-0002.jpeg</td>\n",
       "    </tr>\n",
       "    <tr>\n",
       "      <th>5230</th>\n",
       "      <td>Pneumonia</td>\n",
       "      <td>VIRUS-9963654-0001.jpeg</td>\n",
       "    </tr>\n",
       "    <tr>\n",
       "      <th>5231</th>\n",
       "      <td>Pneumonia</td>\n",
       "      <td>VIRUS-9975428-0002.jpeg</td>\n",
       "    </tr>\n",
       "  </tbody>\n",
       "</table>\n",
       "<p>5232 rows × 2 columns</p>\n",
       "</div>"
      ],
      "text/plain": [
       "          class                     image\n",
       "0        Normal  NORMAL-1003233-0001.jpeg\n",
       "1        Normal  NORMAL-1012843-0001.jpeg\n",
       "2        Normal  NORMAL-1014768-0001.jpeg\n",
       "3        Normal  NORMAL-1023731-0001.jpeg\n",
       "4        Normal  NORMAL-1029510-0001.jpeg\n",
       "...         ...                       ...\n",
       "5227  Pneumonia   VIRUS-9934736-0003.jpeg\n",
       "5228  Pneumonia   VIRUS-9947411-0002.jpeg\n",
       "5229  Pneumonia   VIRUS-9962961-0002.jpeg\n",
       "5230  Pneumonia   VIRUS-9963654-0001.jpeg\n",
       "5231  Pneumonia   VIRUS-9975428-0002.jpeg\n",
       "\n",
       "[5232 rows x 2 columns]"
      ]
     },
     "execution_count": 372,
     "metadata": {},
     "output_type": "execute_result"
    }
   ],
   "source": [
    "df_train"
   ]
  },
  {
   "cell_type": "code",
   "execution_count": 361,
   "id": "37c73d11-beff-45fb-8683-f096895aa7cc",
   "metadata": {
    "tags": []
   },
   "outputs": [
    {
     "data": {
      "text/html": [
       "<div>\n",
       "<style scoped>\n",
       "    .dataframe tbody tr th:only-of-type {\n",
       "        vertical-align: middle;\n",
       "    }\n",
       "\n",
       "    .dataframe tbody tr th {\n",
       "        vertical-align: top;\n",
       "    }\n",
       "\n",
       "    .dataframe thead th {\n",
       "        text-align: right;\n",
       "    }\n",
       "</style>\n",
       "<table border=\"1\" class=\"dataframe\">\n",
       "  <thead>\n",
       "    <tr style=\"text-align: right;\">\n",
       "      <th></th>\n",
       "      <th>class</th>\n",
       "      <th>image</th>\n",
       "    </tr>\n",
       "  </thead>\n",
       "  <tbody>\n",
       "    <tr>\n",
       "      <th>0</th>\n",
       "      <td>Normal</td>\n",
       "      <td>NORMAL-1049278-0001.jpeg</td>\n",
       "    </tr>\n",
       "    <tr>\n",
       "      <th>1</th>\n",
       "      <td>Normal</td>\n",
       "      <td>NORMAL-1110860-0001.jpeg</td>\n",
       "    </tr>\n",
       "    <tr>\n",
       "      <th>2</th>\n",
       "      <td>Normal</td>\n",
       "      <td>NORMAL-11419-0001.jpeg</td>\n",
       "    </tr>\n",
       "    <tr>\n",
       "      <th>3</th>\n",
       "      <td>Normal</td>\n",
       "      <td>NORMAL-115218-0001.jpeg</td>\n",
       "    </tr>\n",
       "    <tr>\n",
       "      <th>4</th>\n",
       "      <td>Normal</td>\n",
       "      <td>NORMAL-1160949-0001.jpeg</td>\n",
       "    </tr>\n",
       "    <tr>\n",
       "      <th>...</th>\n",
       "      <td>...</td>\n",
       "      <td>...</td>\n",
       "    </tr>\n",
       "    <tr>\n",
       "      <th>619</th>\n",
       "      <td>Pneumonia</td>\n",
       "      <td>VIRUS-9584831-0001.jpeg</td>\n",
       "    </tr>\n",
       "    <tr>\n",
       "      <th>620</th>\n",
       "      <td>Pneumonia</td>\n",
       "      <td>VIRUS-9671740-0001.jpeg</td>\n",
       "    </tr>\n",
       "    <tr>\n",
       "      <th>621</th>\n",
       "      <td>Pneumonia</td>\n",
       "      <td>VIRUS-9783315-0001.jpeg</td>\n",
       "    </tr>\n",
       "    <tr>\n",
       "      <th>622</th>\n",
       "      <td>Pneumonia</td>\n",
       "      <td>VIRUS-9890836-0001.jpeg</td>\n",
       "    </tr>\n",
       "    <tr>\n",
       "      <th>623</th>\n",
       "      <td>Pneumonia</td>\n",
       "      <td>VIRUS-9968655-0001.jpeg</td>\n",
       "    </tr>\n",
       "  </tbody>\n",
       "</table>\n",
       "<p>624 rows × 2 columns</p>\n",
       "</div>"
      ],
      "text/plain": [
       "         class                     image\n",
       "0       Normal  NORMAL-1049278-0001.jpeg\n",
       "1       Normal  NORMAL-1110860-0001.jpeg\n",
       "2       Normal    NORMAL-11419-0001.jpeg\n",
       "3       Normal   NORMAL-115218-0001.jpeg\n",
       "4       Normal  NORMAL-1160949-0001.jpeg\n",
       "..         ...                       ...\n",
       "619  Pneumonia   VIRUS-9584831-0001.jpeg\n",
       "620  Pneumonia   VIRUS-9671740-0001.jpeg\n",
       "621  Pneumonia   VIRUS-9783315-0001.jpeg\n",
       "622  Pneumonia   VIRUS-9890836-0001.jpeg\n",
       "623  Pneumonia   VIRUS-9968655-0001.jpeg\n",
       "\n",
       "[624 rows x 2 columns]"
      ]
     },
     "execution_count": 361,
     "metadata": {},
     "output_type": "execute_result"
    }
   ],
   "source": [
    "df_test"
   ]
  },
  {
   "cell_type": "markdown",
   "id": "5951be9c-552e-42c7-87fc-7ac9fd28e0cb",
   "metadata": {},
   "source": [
    "### Data exploration"
   ]
  },
  {
   "cell_type": "markdown",
   "id": "45492238-b6f8-46e0-91f7-0f750ac8d139",
   "metadata": {},
   "source": [
    "Dataset consist of two classes: Normal and Pneumonia. \n",
    "There are 5232 images in train set and 624 images in test set."
   ]
  },
  {
   "cell_type": "markdown",
   "id": "bfa4df3a-a29c-4e74-9daa-fe22a2d798e8",
   "metadata": {},
   "source": [
    "Data distribution in train set:"
   ]
  },
  {
   "cell_type": "code",
   "execution_count": 46,
   "id": "e578fd26-0067-45c9-86f1-413056f0ee7a",
   "metadata": {},
   "outputs": [
    {
     "data": {
      "image/png": "[encoded data removed]",
      "text/plain": [
       "<Figure size 504x360 with 1 Axes>"
      ]
     },
     "metadata": {},
     "output_type": "display_data"
    }
   ],
   "source": [
    "plt.figure(figsize=(7,5))\n",
    "\n",
    "ax = sns.countplot(x='class', data=df_train, palette=\"husl\")\n",
    "\n",
    "plt.title(\"Train set\", fontsize=15)\n",
    "plt.xlabel(\"Class\", fontsize= 14)\n",
    "plt.ylabel(\"Samples\", fontsize= 14)\n",
    "plt.ylim(0,5000)\n",
    "plt.xticks([0,1], ['Normal', 'Pneumonia'], fontsize = 13)\n",
    "\n",
    "for p in ax.patches:\n",
    "    ax.annotate((str(p.get_height()) + \", \" + str(p.get_height() / len(df_train) * 100)[0:5] + \"%\"), \n",
    "                (p.get_x() + 0.25, p.get_height() + 200), fontsize = 14)\n",
    "    \n",
    "plt.show()"
   ]
  },
  {
   "cell_type": "markdown",
   "id": "bc0d2f73-bf5e-4a6d-b05e-017cd5447b00",
   "metadata": {},
   "source": [
    "Data distribution in test set:"
   ]
  },
  {
   "cell_type": "code",
   "execution_count": 48,
   "id": "24e49709-b750-4c9b-b2be-8932611b846a",
   "metadata": {},
   "outputs": [
    {
     "data": {
      "image/png": "[encoded data removed]",
      "text/plain": [
       "<Figure size 504x360 with 1 Axes>"
      ]
     },
     "metadata": {},
     "output_type": "display_data"
    }
   ],
   "source": [
    "plt.figure(figsize=(7,5))\n",
    "\n",
    "ax = sns.countplot(x='class', data=df_test, palette=\"husl\")\n",
    "\n",
    "plt.title(\"Test set\", fontsize=15)\n",
    "plt.xlabel(\"Class\", fontsize= 14)\n",
    "plt.ylabel(\"Samples\", fontsize= 14)\n",
    "plt.ylim(0,500)\n",
    "plt.xticks([0,1], ['Normal', 'Pneumonia'], fontsize = 13)\n",
    "\n",
    "for p in ax.patches:\n",
    "    ax.annotate((str(p.get_height()) + \", \" + str(p.get_height() / len(df_test) * 100)[0:5] + \"%\"), \n",
    "                (p.get_x() + 0.25, p.get_height() + 20), fontsize = 14)\n",
    "    \n",
    "plt.show()"
   ]
  },
  {
   "cell_type": "markdown",
   "id": "f2471a10-a410-42e2-9473-86f3861a8fa7",
   "metadata": {},
   "source": [
    "Both sets seem to be imbalanced having more samples from \"Pneumonia\" class."
   ]
  },
  {
   "cell_type": "code",
   "execution_count": null,
   "id": "7c389fce-742a-4a1c-9f6d-8fb524f5f5cd",
   "metadata": {},
   "outputs": [],
   "source": []
  }
 ],
 "metadata": {
  "kernelspec": {
   "display_name": "Chest-X-Rays-Analysis",
   "language": "python",
   "name": "chest-x-rays-analysis"
  },
  "language_info": {
   "codemirror_mode": {
    "name": "ipython",
    "version": 3
   },
   "file_extension": ".py",
   "mimetype": "text/x-python",
   "name": "python",
   "nbconvert_exporter": "python",
   "pygments_lexer": "ipython3",
   "version": "3.8.6"
  }
 },
 "nbformat": 4,
 "nbformat_minor": 5
}
